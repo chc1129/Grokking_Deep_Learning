{
 "cells": [
  {
   "cell_type": "code",
   "execution_count": null,
   "metadata": {},
   "outputs": [],
   "source": [
    "for iter in range(30000):                          # 順伝播\n",
    "    alpha = 0.001\n",
    "    sent = words2indices(tokens[iter%len(tokens)][1:])\n",
    "    layers,loss = predict(sent)\n",
    "    \n",
    "    for layer_idx in reversed(range(len(layers))):  # 逆伝播\n",
    "        layer = layers[layer_idx]\n",
    "        target = sent[layer_idx-1]\n",
    "        \n",
    "        if(layer_idx > 0):  # 1つ目の層ではない場合\n",
    "            layer['output_delta'] = layer['pred'] - one_hot[target]\n",
    "            new_idden_delta = \\\n",
    "                layer['output_delta'].dot(decoder.transpose())\n",
    "            \n",
    "            # 最後の層の場合,それ以上層は存在しないのｄ絵処理しない\n",
    "            if(layer_idx == len(layers)-1):\n",
    "                layer['hidden_delta'] = new_hidden_delta\n",
    "            else:\n",
    "                layer['hidden_delta'] = new_hidden_delta + \\\n",
    "                layer['hidden_delta'] = new_hidden_delta + \\\n",
    "                    layers[layer_idx+1]['hidden_delta'].dot(recurrent.transpose())\n",
    "        else:  # 1つ目の層の場合\n",
    "            layer['hidden_delta'] = \\\n",
    "                layers[layer_idx+1]['hidden_delta'].dot(recurrent.transpose())"
   ]
  }
 ],
 "metadata": {
  "kernelspec": {
   "display_name": "Python 3",
   "language": "python",
   "name": "python3"
  },
  "language_info": {
   "codemirror_mode": {
    "name": "ipython",
    "version": 3
   },
   "file_extension": ".py",
   "mimetype": "text/x-python",
   "name": "python",
   "nbconvert_exporter": "python",
   "pygments_lexer": "ipython3",
   "version": "3.7.6"
  }
 },
 "nbformat": 4,
 "nbformat_minor": 4
}
